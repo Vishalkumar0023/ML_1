{
 "cells": [
  {
   "cell_type": "code",
   "execution_count": 1,
   "id": "b3177437",
   "metadata": {},
   "outputs": [],
   "source": [
    "import sqlite3\n"
   ]
  },
  {
   "cell_type": "code",
   "execution_count": 2,
   "id": "de96c580",
   "metadata": {},
   "outputs": [
    {
     "data": {
      "text/plain": [
       "<sqlite3.Connection at 0x10486ab60>"
      ]
     },
     "execution_count": 2,
     "metadata": {},
     "output_type": "execute_result"
    }
   ],
   "source": [
    "connection = sqlite3.connect(\"example.db\")\n",
    "connection"
   ]
  },
  {
   "cell_type": "code",
   "execution_count": 3,
   "id": "fe68b26c",
   "metadata": {},
   "outputs": [],
   "source": [
    "cursor = connection.cursor()"
   ]
  },
  {
   "cell_type": "code",
   "execution_count": 5,
   "id": "ce54df77",
   "metadata": {},
   "outputs": [],
   "source": [
    "cursor.execute(''' \n",
    "Create Table If Not Exists employees(\n",
    "               id Integer Primary key,\n",
    "               name Text Not Null,\n",
    "               age Integer Not Null,\n",
    "               department Text Not Null\n",
    "               )\n",
    "\n",
    "''')\n",
    "connection.commit()"
   ]
  },
  {
   "cell_type": "code",
   "execution_count": 6,
   "id": "69d07311",
   "metadata": {},
   "outputs": [],
   "source": [
    "cursor.execute(''' \n",
    "Insert Into employees(name,age,department)\n",
    "               values('vishal',34,'ai')\n",
    "''')\n",
    "\n",
    "cursor.execute(''' \n",
    "Insert Into employees(name,age,department)\n",
    "               values('jack',35,'ds')\n",
    "''')\n",
    "\n",
    "cursor.execute(''' \n",
    "Insert Into employees(name,age,department)\n",
    "               values('bob',40,'cse')\n",
    "''')\n",
    "connection.commit()"
   ]
  },
  {
   "cell_type": "code",
   "execution_count": 7,
   "id": "3e4a3fd9",
   "metadata": {},
   "outputs": [
    {
     "name": "stdout",
     "output_type": "stream",
     "text": [
      "(1, 'vishal', 34, 'ai')\n",
      "(2, 'jack', 35, 'ds')\n",
      "(3, 'bob', 40, 'cse')\n"
     ]
    }
   ],
   "source": [
    "cursor.execute('Select * From employees')\n",
    "rows = cursor.fetchall()\n",
    "for row in rows:\n",
    "    print(row)"
   ]
  },
  {
   "cell_type": "code",
   "execution_count": 9,
   "id": "31b85d42",
   "metadata": {},
   "outputs": [],
   "source": [
    "cursor.execute('''\n",
    "Update employees\n",
    "Set age = 55\n",
    "where name = \"jack\"                              \n",
    " ''')\n",
    "connection.commit()"
   ]
  },
  {
   "cell_type": "code",
   "execution_count": 10,
   "id": "f894f9bd",
   "metadata": {},
   "outputs": [
    {
     "name": "stdout",
     "output_type": "stream",
     "text": [
      "(1, 'vishal', 34, 'ai')\n",
      "(2, 'jack', 55, 'ds')\n",
      "(3, 'bob', 40, 'cse')\n"
     ]
    }
   ],
   "source": [
    "cursor.execute('Select * From employees')\n",
    "rows = cursor.fetchall()\n",
    "for row in rows:\n",
    "    print(row)"
   ]
  },
  {
   "cell_type": "code",
   "execution_count": 11,
   "id": "ca5c566f",
   "metadata": {},
   "outputs": [],
   "source": [
    "cursor.execute(''' \n",
    "Delete From employees\n",
    "               where name ='bob'\n",
    "''')\n",
    "connection.commit()"
   ]
  },
  {
   "cell_type": "code",
   "execution_count": 12,
   "id": "c08280df",
   "metadata": {},
   "outputs": [
    {
     "name": "stdout",
     "output_type": "stream",
     "text": [
      "(1, 'vishal', 34, 'ai')\n",
      "(2, 'jack', 55, 'ds')\n"
     ]
    }
   ],
   "source": [
    "cursor.execute('Select * From employees')\n",
    "rows = cursor.fetchall()\n",
    "for row in rows:\n",
    "    print(row)"
   ]
  },
  {
   "cell_type": "code",
   "execution_count": null,
   "id": "c7aaa7b2",
   "metadata": {},
   "outputs": [],
   "source": []
  }
 ],
 "metadata": {
  "kernelspec": {
   "display_name": "Python 3",
   "language": "python",
   "name": "python3"
  },
  "language_info": {
   "codemirror_mode": {
    "name": "ipython",
    "version": 3
   },
   "file_extension": ".py",
   "mimetype": "text/x-python",
   "name": "python",
   "nbconvert_exporter": "python",
   "pygments_lexer": "ipython3",
   "version": "3.12.0"
  }
 },
 "nbformat": 4,
 "nbformat_minor": 5
}
